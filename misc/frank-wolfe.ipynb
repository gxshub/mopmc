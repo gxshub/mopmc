{
 "cells": [
  {
   "cell_type": "markdown",
   "id": "42c8d613-2c62-40bb-b5f4-f5fc3ee14358",
   "metadata": {},
   "source": [
    "# Conditional Gradient Implementation\n",
    "\n",
    "This simple implemenation is a worked example for a convex function which represents an achiavablility query. The associated diagram (see attachments) validates that each x* is in halfspace currently determined by algorithm 1. "
   ]
  },
  {
   "cell_type": "code",
   "execution_count": 14,
   "id": "769093bf-4a7b-44f1-bb13-c0d25910cd22",
   "metadata": {},
   "outputs": [],
   "source": [
    "import numpy as np\n",
    "from scipy import optimize"
   ]
  },
  {
   "cell_type": "code",
   "execution_count": 15,
   "id": "bea71d9e-5505-4bbf-8f54-63d2ce3ce14c",
   "metadata": {},
   "outputs": [
    {
     "name": "stdout",
     "output_type": "stream",
     "text": [
      "[0 1 1 0 1 0 1 1 1 1]\n"
     ]
    }
   ],
   "source": [
    "t = np.random.uniform(-100., 100, 10)\n",
    "print(np.where(t >=0, 1, 0))"
   ]
  },
  {
   "cell_type": "code",
   "execution_count": 16,
   "id": "7c4531c6-daac-449d-aa0a-739698834db5",
   "metadata": {},
   "outputs": [
    {
     "name": "stdout",
     "output_type": "stream",
     "text": [
      "[[0.5 0.5]]\n"
     ]
    }
   ],
   "source": [
    "w = np.array([0.5, 0.5])\n",
    "A_test = w[:, np.newaxis].T\n",
    "print(A_test)"
   ]
  },
  {
   "cell_type": "markdown",
   "id": "6756ddfd-e3ac-464f-950f-1e068a340c03",
   "metadata": {},
   "source": [
    "Testing finding a new $s_t$ value. In this test we start with some random $w=(0.5, 0.5)$ which is input into the MOPMC model checker (see attached files) giving the Pareto optimal point of $r_1=(11.7778, 1.336)$. This is the starting point (initial point) to find a new $x^*$ via Frank-Wolfe. Here we use the simplest implementation of Frank-Wolfe and the Achievability query via the ReLU function. \n",
    "\n",
    "In this problem because the thresholds are $R_1 <= 12, R_2 <= 1.45$ we are trying to minimise rewards. To minimise rewards in model checking we multiply the rewards by -1 and select the action which maximises the Bellman state equation. \n",
    "\n",
    "Similary in optimisation, we are trying to determine if the target sits within the halfspace. For traditional achievability this is the upward closure or downward closure then multiplied by a coefficient of -1. "
   ]
  },
  {
   "cell_type": "code",
   "execution_count": 17,
   "id": "845204a5-8cb7-489a-8d09-47a1df9e54c1",
   "metadata": {},
   "outputs": [],
   "source": [
    "def relu_gradient(input):\n",
    "    return np.where(input >=0, 1, 0)\n",
    "\n",
    "def f(c0, x):\n",
    "    return c0 - x"
   ]
  },
  {
   "cell_type": "markdown",
   "id": "03050385-391a-43d9-aa0c-e9dc9a6e792d",
   "metadata": {},
   "source": [
    "Test the linear programming output (find $s_t$) for one iteration:"
   ]
  },
  {
   "cell_type": "code",
   "execution_count": 18,
   "id": "c84bcc3b-b0ef-472b-84d7-3f9c5cd38634",
   "metadata": {},
   "outputs": [
    {
     "name": "stdout",
     "output_type": "stream",
     "text": [
      "(2,)\n",
      "[1 1] (2,)\n",
      "[[-0.5 -0.5]] (1, 2)\n",
      "[-6.5569] (1,)\n",
      "[13.1138  0.    ]\n",
      "0\n"
     ]
    }
   ],
   "source": [
    "Phi = np.array([[11.7778, 1.336]])\n",
    "x0 = Phi[0]\n",
    "print(x0.shape)\n",
    "c0 = np.array([12, 1.45])\n",
    "\n",
    "# linProg test\n",
    "c = relu_gradient(f(c0, x0))\n",
    "print(c, c.shape)\n",
    "A_ub = -w[:, np.newaxis].T\n",
    "print(A_ub, A_ub.shape)\n",
    "b_ub = np.array([np.dot(-w, r) for r in Phi])\n",
    "print(b_ub, b_ub.shape)\n",
    "\n",
    "s_t = optimize.linprog(c=c, A_ub=A_ub, b_ub=b_ub)\n",
    "print(s_t.x)\n",
    "print(s_t.status)"
   ]
  },
  {
   "cell_type": "code",
   "execution_count": 19,
   "id": "5ae04bf2-bdb7-40be-83f8-720e9c269af2",
   "metadata": {},
   "outputs": [
    {
     "name": "stdout",
     "output_type": "stream",
     "text": [
      "False\n"
     ]
    }
   ],
   "source": [
    "# Target check\n",
    "wt = np.dot(w, np.array([12., 1.45]))\n",
    "print(np.dot(w, Phi[0]) > wt) # If True need to do point plane projection via \n",
    "                              # linear programming to find a new z_* to continue"
   ]
  },
  {
   "cell_type": "code",
   "execution_count": 20,
   "id": "87322b3f-dc82-4e1d-8427-1eaa4f14e7b7",
   "metadata": {},
   "outputs": [],
   "source": [
    "def FrankWolfe(initial_point, iterations, w, Phi, c0):\n",
    "    x = initial_point\n",
    "\n",
    "    for iteration in range(1, iterations):\n",
    "        gamma = 2 / (2 + iterations)\n",
    "        st = get_st(x, w, Phi, iteration, c0)\n",
    "        x = x + gamma * (st - x)\n",
    "\n",
    "    return x\n",
    "\n",
    "def get_st(x, w, Phi, iter, c0):\n",
    "    c = relu_gradient(f(c0, x))\n",
    "\n",
    "    # do a linear programming step which we have to figure out now\n",
    "    A_ub = -w\n",
    "    #print(A_ub.shape)\n",
    "    b_ub = np.array([np.dot(-w[i], r) for i, r in enumerate(Phi)])\n",
    "    #print(b_ub.shape)\n",
    "    s_t = optimize.linprog(c=c, A_ub=A_ub, b_ub=b_ub)\n",
    "\n",
    "    #print(\"status:\", iter, s_t.x)\n",
    "    return s_t.x\n",
    "    "
   ]
  },
  {
   "cell_type": "markdown",
   "id": "cd68c541-e0ac-474f-93c3-bf2fde0594d5",
   "metadata": {},
   "source": [
    "### Iteration 1\n",
    "Running Frank-Wolfe"
   ]
  },
  {
   "cell_type": "code",
   "execution_count": 21,
   "id": "a26475ab-4a8a-402a-93f7-8076c9b62bda",
   "metadata": {},
   "outputs": [
    {
     "name": "stdout",
     "output_type": "stream",
     "text": [
      "Final solution: [12.91789971  0.18810029]\n"
     ]
    }
   ],
   "source": [
    "w = np.array([[0.5, 0.5]])\n",
    "Phi = np.array([[11.77, 1.336]]) # generated from mopmc framework (alg2)\n",
    "c0 = np.array([12, 1.45])\n",
    "initialPoint = Phi[0]\n",
    "\n",
    "xstar = FrankWolfe(initialPoint, 100, w, Phi, c0) \n",
    "print(\"Final solution:\", xstar)\n"
   ]
  },
  {
   "cell_type": "markdown",
   "id": "61fe9272-e94b-48be-8e85-b7c7b320ac85",
   "metadata": {},
   "source": [
    "Computing the new w:"
   ]
  },
  {
   "cell_type": "code",
   "execution_count": 22,
   "id": "aa9e3ae7-6824-4fa9-a6bb-8acdc07941be",
   "metadata": {},
   "outputs": [
    {
     "name": "stdout",
     "output_type": "stream",
     "text": [
      "[0 1]\n",
      "ReLU Grad: [0 1]\n",
      "1.0\n",
      "w: [0. 1.]\n"
     ]
    }
   ],
   "source": [
    "# give c0 an error term to account for numeric error in FW\n",
    "eps = 0.03\n",
    "c0eps = c0 + np.array([eps]*c0.shape[0])\n",
    "nabla_xstar = relu_gradient(f(c0eps,xstar))\n",
    "print(nabla_xstar)\n",
    "print(\"ReLU Grad:\", relu_gradient(f(c0eps, xstar)))\n",
    "denom = np.linalg.norm(relu_gradient(f(c0eps, xstar)), 1)\n",
    "print(denom)\n",
    "wnew = nabla_xstar / denom\n",
    "print(\"w:\",wnew)"
   ]
  },
  {
   "cell_type": "markdown",
   "id": "05113a10-0812-457e-af1b-7d30ee97aada",
   "metadata": {},
   "source": [
    "### Iteration 2"
   ]
  },
  {
   "cell_type": "code",
   "execution_count": 23,
   "id": "7c80ac30-53ce-4326-a452-49e2b32e138c",
   "metadata": {},
   "outputs": [
    {
     "name": "stdout",
     "output_type": "stream",
     "text": [
      "Not achievable check: False\n",
      "(2,)\n",
      "c [0 1] (2,)\n",
      "A_ub [[-0.5 -0.5]\n",
      " [-0.  -1. ]] (2, 2)\n",
      "b_ub [[-6.5569]\n",
      " [-7.9233]] (2, 1)\n",
      "[5.1905 7.9233]\n",
      "0\n"
     ]
    }
   ],
   "source": [
    "W = np.array([[0.5, 0.5], [0., 1.]])\n",
    "Phi = np.array([[11.7778, 1.336], [14.622, 1.2246]]) # generated from mopmc framework (alg2)\n",
    "\n",
    "# Target check\n",
    "wt = np.dot(W[1], np.array([12., 1.45]))\n",
    "print(\"Not achievable check:\", np.dot(W[1], Phi[1]) > wt)\n",
    "# If True need to do point plane projection via linear programming to find a new z_* to continue\n",
    "\n",
    "x0 = Phi[1] # ???? what is the new x0\n",
    "print(x0.shape)\n",
    "c0 = np.array([10, 1.45])\n",
    "\n",
    "# linProg test\n",
    "c = relu_gradient(f(c0, x0))\n",
    "print(\"c\", c, c.shape)\n",
    "A_ub = -W\n",
    "print(\"A_ub\", A_ub, A_ub.shape)\n",
    "b_ub = np.array([np.dot(-w, r) for r in Phi])\n",
    "print(\"b_ub\", b_ub, b_ub.shape)\n",
    "\n",
    "s_t = optimize.linprog(c=c, A_ub=A_ub, b_ub=b_ub)\n",
    "print(s_t.x)\n",
    "print(s_t.status)"
   ]
  },
  {
   "cell_type": "code",
   "execution_count": 24,
   "id": "85eb9701-f13f-46dc-a02b-c3f2ae938fa2",
   "metadata": {},
   "outputs": [
    {
     "name": "stdout",
     "output_type": "stream",
     "text": [
      "Final solution: [12.25378471  1.2246    ]\n"
     ]
    }
   ],
   "source": [
    "W = np.array([[0.5, 0.5], [0., 1.]])\n",
    "Phi = np.array([[11.77, 1.336], [14.622, 1.2246]])\n",
    "c0 = np.array([10, 1.45])\n",
    "initialPoint = Phi[1]\n",
    "\n",
    "xstar = FrankWolfe(initialPoint, 1000, W, Phi, c0) \n",
    "print(\"Final solution:\", xstar)"
   ]
  },
  {
   "cell_type": "code",
   "execution_count": 25,
   "id": "f2dc6261-3480-46b2-ab60-fabee171445c",
   "metadata": {},
   "outputs": [
    {
     "name": "stdout",
     "output_type": "stream",
     "text": [
      "[0 1]\n",
      "ReLU Grad: [0 1]\n",
      "1.0\n",
      "w: [0. 1.]\n"
     ]
    }
   ],
   "source": [
    "# give c0 an error term to account for numeric error in FW\n",
    "eps = 0.03\n",
    "c0eps = c0 + np.array([eps]*c0.shape[0])\n",
    "nabla_xstar = relu_gradient(f(c0eps,xstar))\n",
    "print(nabla_xstar)\n",
    "print(\"ReLU Grad:\", relu_gradient(f(c0eps, xstar)))\n",
    "denom = np.linalg.norm(relu_gradient(f(c0eps, xstar)), 1)\n",
    "print(denom)\n",
    "wnew = nabla_xstar / denom\n",
    "print(\"w:\",wnew)"
   ]
  },
  {
   "cell_type": "markdown",
   "id": "366f033f-76ad-40fd-b3ff-218f22b2a69a",
   "metadata": {},
   "source": [
    "The algorithm ends here as there are no new weight vectors and since line 9 of Algorithm 1 has not been violated the threshold is achievable. "
   ]
  }
 ],
 "metadata": {
  "kernelspec": {
   "display_name": "convex_query",
   "language": "python",
   "name": "convexquery"
  },
  "language_info": {
   "codemirror_mode": {
    "name": "ipython",
    "version": 3
   },
   "file_extension": ".py",
   "mimetype": "text/x-python",
   "name": "python",
   "nbconvert_exporter": "python",
   "pygments_lexer": "ipython3",
   "version": "3.10.12"
  }
 },
 "nbformat": 4,
 "nbformat_minor": 5
}
