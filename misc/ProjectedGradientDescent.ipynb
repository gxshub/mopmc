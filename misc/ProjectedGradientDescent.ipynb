{
 "cells": [
  {
   "cell_type": "code",
   "execution_count": 68,
   "id": "69c2c3ac-20a8-4fe6-ae86-c574e7b58af1",
   "metadata": {},
   "outputs": [],
   "source": [
    "import numpy as np\n",
    "import math"
   ]
  },
  {
   "cell_type": "code",
   "execution_count": 69,
   "id": "580a83fd-9546-4652-9a05-166d3a2a4e65",
   "metadata": {},
   "outputs": [
    {
     "data": {
      "text/plain": [
       "0.7071067811865476"
      ]
     },
     "execution_count": 69,
     "metadata": {},
     "output_type": "execute_result"
    }
   ],
   "source": [
    "a = np.array([-1., 2, 0, -5, 6])\n",
    "\n",
    "math.sqrt(0.5**2*2)"
   ]
  },
  {
   "cell_type": "code",
   "execution_count": 117,
   "id": "6e158e3e-1379-4cc6-ba5d-a5dea8f89bd6",
   "metadata": {},
   "outputs": [],
   "source": [
    "def ReLU(x):\n",
    "    return np.maximum(0, x) \n",
    "\n",
    "def f(c, x):\n",
    "    return x - c"
   ]
  },
  {
   "cell_type": "code",
   "execution_count": 4,
   "id": "c7cb6e32-05ca-4739-8fc6-6b782391abab",
   "metadata": {},
   "outputs": [
    {
     "name": "stdout",
     "output_type": "stream",
     "text": [
      "[0. 2. 0. 0. 6.]\n"
     ]
    }
   ],
   "source": [
    "print(ReLU(a))"
   ]
  },
  {
   "cell_type": "code",
   "execution_count": 118,
   "id": "3d5f3ada-abe3-4c38-86a0-1289e9807b18",
   "metadata": {},
   "outputs": [],
   "source": [
    "# derivative of ReLU\n",
    "def get_gradient(x):\n",
    "    #print(\"gradient input\", x)\n",
    "    return np.where(x > 0, 1, 0)"
   ]
  },
  {
   "cell_type": "code",
   "execution_count": 119,
   "id": "e4ae2f6f-18cf-4ef3-a16f-ed0186f253c9",
   "metadata": {},
   "outputs": [],
   "source": [
    "def project(x, Phi, W, l):\n",
    "    solutions = []\n",
    "    # check is any wx > wr\n",
    "    for i in range(l):\n",
    "        if np.dot(x, W[i]) < np.dot(W[i], Phi[i]):\n",
    "            #print(\"point not within halfspace\", \"l=\", i, \"wx\", np.dot(x, W[i]) , \"wr\", np.dot(W[i], Phi[i]))\n",
    "            break\n",
    "    for i in range(l):\n",
    "        r = Phi[i]\n",
    "        w = W[i]\n",
    "        v = x - r\n",
    "        # w must be transformed to unit norm\n",
    "        dist = np.dot(v, w / math.sqrt(sum([i**2 for i in w])))\n",
    "        xproj = x  - dist * w / math.sqrt(sum([i**2 for i in w]))\n",
    "        #print(np.dot(w, r) == np.dot(w, xproj))\n",
    "        #print(\"x\", x, \"r\", r, \"w\", w, \"r - x\", v, \"dist\", dist, \"x*\", xproj)\n",
    "        solutions.append((dist, xproj))\n",
    "    #print(solutions)\n",
    "    return min(solutions, key=lambda z: z[0])[1]\n",
    "        "
   ]
  },
  {
   "cell_type": "code",
   "execution_count": 113,
   "id": "a825ae9d-d5c1-4aae-966d-f11bd04dcb4d",
   "metadata": {},
   "outputs": [],
   "source": [
    "def termination(xnew, xold, threshold):\n",
    "    error = sum(np.abs(xnew - xold))\n",
    "    if error < threshold:\n",
    "        return True\n",
    "    return False\n",
    "\n",
    "def gradient_descent(initial_point, iterations, gamma, Phi, W, l, t, threshold):\n",
    "\n",
    "    x = initial_point\n",
    "\n",
    "    for iteration in range(1, iterations + 1):\n",
    "        xold = np.copy(x)\n",
    "        grad = get_gradient(f(t, x))\n",
    "        \n",
    "        x = x - gamma * grad\n",
    "\n",
    "        xnew = project(x, Phi, W, l)\n",
    "        print(\"xnew\", xnew)\n",
    "        if termination(xnew, xold, threshold):\n",
    "            x = xnew\n",
    "            break\n",
    "        x = xnew\n",
    "    return x\n",
    "        "
   ]
  },
  {
   "cell_type": "code",
   "execution_count": 120,
   "id": "88cc46ca-f712-4ccd-91e0-9887cd79855a",
   "metadata": {},
   "outputs": [
    {
     "name": "stdout",
     "output_type": "stream",
     "text": [
      "Using a Random point from above\n",
      "xnew [14.9     1.2246]\n",
      "xnew [14.8     1.2246]\n",
      "xnew [14.7     1.2246]\n",
      "xnew [14.6     1.2246]\n",
      "xnew [14.5     1.2246]\n",
      "xnew [14.4     1.2246]\n",
      "xnew [14.3     1.2246]\n",
      "xnew [14.2     1.2246]\n",
      "xnew [14.1     1.2246]\n",
      "xnew [14.      1.2246]\n",
      "xnew [13.9     1.2246]\n",
      "xnew [13.8     1.2246]\n",
      "xnew [13.7     1.2246]\n",
      "xnew [13.6     1.2246]\n",
      "xnew [13.5     1.2246]\n",
      "xnew [13.4     1.2246]\n",
      "xnew [13.3     1.2246]\n",
      "xnew [13.2     1.2246]\n",
      "xnew [13.1     1.2246]\n",
      "xnew [13.      1.2246]\n",
      "xnew [12.9     1.2246]\n",
      "xnew [12.8     1.2246]\n",
      "xnew [12.7     1.2246]\n",
      "xnew [12.6     1.2246]\n",
      "xnew [12.5     1.2246]\n",
      "xnew [12.4     1.2246]\n",
      "xnew [12.3     1.2246]\n",
      "xnew [12.2     1.2246]\n",
      "xnew [12.1     1.2246]\n",
      "xnew [12.      1.2246]\n",
      "xnew [11.9     1.2246]\n",
      "xnew [11.8446  1.2692]\n",
      "xnew [11.7946  1.3192]\n",
      "xnew [11.7446  1.3692]\n",
      "xnew [11.6946  1.4192]\n",
      "xnew [11.6446  1.4692]\n",
      "xnew [11.6446  1.4692]\n",
      "Using one of the points on the convex hull\n",
      "xnew [11.7278  1.386 ]\n",
      "xnew [11.6778  1.436 ]\n",
      "xnew [11.6278  1.486 ]\n",
      "xnew [11.6278  1.486 ]\n",
      "Using another of the points from the convex hull\n",
      "xnew [11.7278  1.386 ]\n",
      "xnew [11.6778  1.436 ]\n",
      "xnew [11.6278  1.486 ]\n",
      "xnew [11.6278  1.486 ]\n"
     ]
    },
    {
     "data": {
      "text/plain": [
       "array([11.6278,  1.486 ])"
      ]
     },
     "execution_count": 120,
     "metadata": {},
     "output_type": "execute_result"
    }
   ],
   "source": [
    "Phi = [np.array([11.7778, 1.336]), np.array([14.622, 1.2246])]\n",
    "W = [np.array([0.5, 0.5]), np.array([0, 1])]\n",
    "t = np.array([10, 1.45])\n",
    "l = 2\n",
    "iterations = 40\n",
    "gamma = 0.1\n",
    "threshold = 1e-3\n",
    "\n",
    "# choice 1 random point\n",
    "print(\"Using a Random point from above\")\n",
    "randomPoint = np.array([15, 3])\n",
    "gradient_descent(randomPoint, iterations, gamma, Phi, W, l, t, threshold)\n",
    "\n",
    "print(\"Using one of the points on the convex hull\")\n",
    "gradient_descent(Phi[0], iterations, gamma, Phi, W, l, t, threshold)\n",
    "\n",
    "print(\"Using another of the points from the convex hull\")\n",
    "gradient_descent(Phi[0], iterations, gamma, Phi, W, l, t, threshold)\n"
   ]
  }
 ],
 "metadata": {
  "kernelspec": {
   "display_name": "convex_query",
   "language": "python",
   "name": "convexquery"
  },
  "language_info": {
   "codemirror_mode": {
    "name": "ipython",
    "version": 3
   },
   "file_extension": ".py",
   "mimetype": "text/x-python",
   "name": "python",
   "nbconvert_exporter": "python",
   "pygments_lexer": "ipython3",
   "version": "3.10.12"
  }
 },
 "nbformat": 4,
 "nbformat_minor": 5
}
